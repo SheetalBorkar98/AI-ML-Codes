{
 "cells": [
  {
   "cell_type": "code",
   "execution_count": 1,
   "id": "ef9f15ad",
   "metadata": {
    "_cell_guid": "b1076dfc-b9ad-4769-8c92-a6c4dae69d19",
    "_uuid": "8f2839f25d086af736a60e9eeb907d3b93b6e0e5",
    "execution": {
     "iopub.execute_input": "2023-07-11T12:32:53.621791Z",
     "iopub.status.busy": "2023-07-11T12:32:53.621267Z",
     "iopub.status.idle": "2023-07-11T12:32:55.073143Z",
     "shell.execute_reply": "2023-07-11T12:32:55.071803Z"
    },
    "papermill": {
     "duration": 1.46194,
     "end_time": "2023-07-11T12:32:55.075906",
     "exception": false,
     "start_time": "2023-07-11T12:32:53.613966",
     "status": "completed"
    },
    "tags": []
   },
   "outputs": [
    {
     "name": "stderr",
     "output_type": "stream",
     "text": [
      "/opt/conda/lib/python3.10/site-packages/scipy/__init__.py:146: UserWarning: A NumPy version >=1.16.5 and <1.23.0 is required for this version of SciPy (detected version 1.23.5\n",
      "  warnings.warn(f\"A NumPy version >={np_minversion} and <{np_maxversion}\"\n"
     ]
    }
   ],
   "source": [
    "import pandas as pd\n",
    "import numpy as np\n",
    "import matplotlib.pyplot as plt\n",
    "from sklearn.model_selection import train_test_split\n",
    "from sklearn.linear_model import LinearRegression"
   ]
  },
  {
   "cell_type": "code",
   "execution_count": 2,
   "id": "a2dec0c3",
   "metadata": {
    "execution": {
     "iopub.execute_input": "2023-07-11T12:32:55.086291Z",
     "iopub.status.busy": "2023-07-11T12:32:55.085920Z",
     "iopub.status.idle": "2023-07-11T12:32:55.106900Z",
     "shell.execute_reply": "2023-07-11T12:32:55.105594Z"
    },
    "papermill": {
     "duration": 0.029072,
     "end_time": "2023-07-11T12:32:55.109426",
     "exception": false,
     "start_time": "2023-07-11T12:32:55.080354",
     "status": "completed"
    },
    "tags": []
   },
   "outputs": [],
   "source": [
    "dataset1 = pd.read_csv('/kaggle/input/multiplelinearregressiondataset/multiple-linear-regression-dataset.csv')"
   ]
  },
  {
   "cell_type": "code",
   "execution_count": 3,
   "id": "860917ae",
   "metadata": {
    "execution": {
     "iopub.execute_input": "2023-07-11T12:32:55.120365Z",
     "iopub.status.busy": "2023-07-11T12:32:55.119996Z",
     "iopub.status.idle": "2023-07-11T12:32:55.143430Z",
     "shell.execute_reply": "2023-07-11T12:32:55.142124Z"
    },
    "papermill": {
     "duration": 0.0318,
     "end_time": "2023-07-11T12:32:55.145942",
     "exception": false,
     "start_time": "2023-07-11T12:32:55.114142",
     "status": "completed"
    },
    "tags": []
   },
   "outputs": [
    {
     "data": {
      "text/html": [
       "<div>\n",
       "<style scoped>\n",
       "    .dataframe tbody tr th:only-of-type {\n",
       "        vertical-align: middle;\n",
       "    }\n",
       "\n",
       "    .dataframe tbody tr th {\n",
       "        vertical-align: top;\n",
       "    }\n",
       "\n",
       "    .dataframe thead th {\n",
       "        text-align: right;\n",
       "    }\n",
       "</style>\n",
       "<table border=\"1\" class=\"dataframe\">\n",
       "  <thead>\n",
       "    <tr style=\"text-align: right;\">\n",
       "      <th></th>\n",
       "      <th>deneyim</th>\n",
       "      <th>maas</th>\n",
       "      <th>yas</th>\n",
       "    </tr>\n",
       "  </thead>\n",
       "  <tbody>\n",
       "    <tr>\n",
       "      <th>0</th>\n",
       "      <td>0.5</td>\n",
       "      <td>2500</td>\n",
       "      <td>22</td>\n",
       "    </tr>\n",
       "    <tr>\n",
       "      <th>1</th>\n",
       "      <td>0.0</td>\n",
       "      <td>2250</td>\n",
       "      <td>21</td>\n",
       "    </tr>\n",
       "    <tr>\n",
       "      <th>2</th>\n",
       "      <td>1.0</td>\n",
       "      <td>2750</td>\n",
       "      <td>23</td>\n",
       "    </tr>\n",
       "    <tr>\n",
       "      <th>3</th>\n",
       "      <td>5.0</td>\n",
       "      <td>8000</td>\n",
       "      <td>25</td>\n",
       "    </tr>\n",
       "    <tr>\n",
       "      <th>4</th>\n",
       "      <td>8.0</td>\n",
       "      <td>9000</td>\n",
       "      <td>28</td>\n",
       "    </tr>\n",
       "    <tr>\n",
       "      <th>5</th>\n",
       "      <td>4.0</td>\n",
       "      <td>6900</td>\n",
       "      <td>23</td>\n",
       "    </tr>\n",
       "    <tr>\n",
       "      <th>6</th>\n",
       "      <td>15.0</td>\n",
       "      <td>20000</td>\n",
       "      <td>35</td>\n",
       "    </tr>\n",
       "    <tr>\n",
       "      <th>7</th>\n",
       "      <td>7.0</td>\n",
       "      <td>8500</td>\n",
       "      <td>29</td>\n",
       "    </tr>\n",
       "    <tr>\n",
       "      <th>8</th>\n",
       "      <td>3.0</td>\n",
       "      <td>6000</td>\n",
       "      <td>22</td>\n",
       "    </tr>\n",
       "    <tr>\n",
       "      <th>9</th>\n",
       "      <td>2.0</td>\n",
       "      <td>3500</td>\n",
       "      <td>23</td>\n",
       "    </tr>\n",
       "    <tr>\n",
       "      <th>10</th>\n",
       "      <td>12.0</td>\n",
       "      <td>15000</td>\n",
       "      <td>32</td>\n",
       "    </tr>\n",
       "    <tr>\n",
       "      <th>11</th>\n",
       "      <td>10.0</td>\n",
       "      <td>13000</td>\n",
       "      <td>30</td>\n",
       "    </tr>\n",
       "    <tr>\n",
       "      <th>12</th>\n",
       "      <td>14.0</td>\n",
       "      <td>18000</td>\n",
       "      <td>34</td>\n",
       "    </tr>\n",
       "    <tr>\n",
       "      <th>13</th>\n",
       "      <td>6.0</td>\n",
       "      <td>7500</td>\n",
       "      <td>27</td>\n",
       "    </tr>\n",
       "  </tbody>\n",
       "</table>\n",
       "</div>"
      ],
      "text/plain": [
       "    deneyim   maas  yas\n",
       "0       0.5   2500   22\n",
       "1       0.0   2250   21\n",
       "2       1.0   2750   23\n",
       "3       5.0   8000   25\n",
       "4       8.0   9000   28\n",
       "5       4.0   6900   23\n",
       "6      15.0  20000   35\n",
       "7       7.0   8500   29\n",
       "8       3.0   6000   22\n",
       "9       2.0   3500   23\n",
       "10     12.0  15000   32\n",
       "11     10.0  13000   30\n",
       "12     14.0  18000   34\n",
       "13      6.0   7500   27"
      ]
     },
     "execution_count": 3,
     "metadata": {},
     "output_type": "execute_result"
    }
   ],
   "source": [
    "dataset1"
   ]
  },
  {
   "cell_type": "code",
   "execution_count": 4,
   "id": "6ed1c895",
   "metadata": {
    "execution": {
     "iopub.execute_input": "2023-07-11T12:32:55.156949Z",
     "iopub.status.busy": "2023-07-11T12:32:55.156528Z",
     "iopub.status.idle": "2023-07-11T12:32:55.163992Z",
     "shell.execute_reply": "2023-07-11T12:32:55.162858Z"
    },
    "papermill": {
     "duration": 0.016059,
     "end_time": "2023-07-11T12:32:55.166426",
     "exception": false,
     "start_time": "2023-07-11T12:32:55.150367",
     "status": "completed"
    },
    "tags": []
   },
   "outputs": [
    {
     "data": {
      "text/plain": [
       "(14, 3)"
      ]
     },
     "execution_count": 4,
     "metadata": {},
     "output_type": "execute_result"
    }
   ],
   "source": [
    "dataset1.shape"
   ]
  },
  {
   "cell_type": "code",
   "execution_count": 5,
   "id": "240a64f9",
   "metadata": {
    "execution": {
     "iopub.execute_input": "2023-07-11T12:32:55.180232Z",
     "iopub.status.busy": "2023-07-11T12:32:55.179554Z",
     "iopub.status.idle": "2023-07-11T12:32:55.207702Z",
     "shell.execute_reply": "2023-07-11T12:32:55.206622Z"
    },
    "papermill": {
     "duration": 0.037454,
     "end_time": "2023-07-11T12:32:55.210155",
     "exception": false,
     "start_time": "2023-07-11T12:32:55.172701",
     "status": "completed"
    },
    "tags": []
   },
   "outputs": [
    {
     "name": "stdout",
     "output_type": "stream",
     "text": [
      "<class 'pandas.core.frame.DataFrame'>\n",
      "RangeIndex: 14 entries, 0 to 13\n",
      "Data columns (total 3 columns):\n",
      " #   Column   Non-Null Count  Dtype  \n",
      "---  ------   --------------  -----  \n",
      " 0   deneyim  14 non-null     float64\n",
      " 1   maas     14 non-null     int64  \n",
      " 2   yas      14 non-null     int64  \n",
      "dtypes: float64(1), int64(2)\n",
      "memory usage: 464.0 bytes\n"
     ]
    }
   ],
   "source": [
    "dataset1.info()"
   ]
  },
  {
   "cell_type": "code",
   "execution_count": 6,
   "id": "61211c0e",
   "metadata": {
    "execution": {
     "iopub.execute_input": "2023-07-11T12:32:55.224200Z",
     "iopub.status.busy": "2023-07-11T12:32:55.223700Z",
     "iopub.status.idle": "2023-07-11T12:32:55.232444Z",
     "shell.execute_reply": "2023-07-11T12:32:55.231146Z"
    },
    "papermill": {
     "duration": 0.018938,
     "end_time": "2023-07-11T12:32:55.234757",
     "exception": false,
     "start_time": "2023-07-11T12:32:55.215819",
     "status": "completed"
    },
    "tags": []
   },
   "outputs": [],
   "source": [
    "feature = dataset1.iloc[:,0:2]\n",
    "label = dataset1.iloc[:,2]"
   ]
  },
  {
   "cell_type": "code",
   "execution_count": 7,
   "id": "60b7a451",
   "metadata": {
    "execution": {
     "iopub.execute_input": "2023-07-11T12:32:55.246398Z",
     "iopub.status.busy": "2023-07-11T12:32:55.245989Z",
     "iopub.status.idle": "2023-07-11T12:32:55.256808Z",
     "shell.execute_reply": "2023-07-11T12:32:55.255655Z"
    },
    "papermill": {
     "duration": 0.019835,
     "end_time": "2023-07-11T12:32:55.259352",
     "exception": false,
     "start_time": "2023-07-11T12:32:55.239517",
     "status": "completed"
    },
    "tags": []
   },
   "outputs": [
    {
     "data": {
      "text/html": [
       "<div>\n",
       "<style scoped>\n",
       "    .dataframe tbody tr th:only-of-type {\n",
       "        vertical-align: middle;\n",
       "    }\n",
       "\n",
       "    .dataframe tbody tr th {\n",
       "        vertical-align: top;\n",
       "    }\n",
       "\n",
       "    .dataframe thead th {\n",
       "        text-align: right;\n",
       "    }\n",
       "</style>\n",
       "<table border=\"1\" class=\"dataframe\">\n",
       "  <thead>\n",
       "    <tr style=\"text-align: right;\">\n",
       "      <th></th>\n",
       "      <th>deneyim</th>\n",
       "      <th>maas</th>\n",
       "      <th>yas</th>\n",
       "    </tr>\n",
       "  </thead>\n",
       "  <tbody>\n",
       "    <tr>\n",
       "      <th>0</th>\n",
       "      <td>0.5</td>\n",
       "      <td>2500</td>\n",
       "      <td>22</td>\n",
       "    </tr>\n",
       "    <tr>\n",
       "      <th>1</th>\n",
       "      <td>0.0</td>\n",
       "      <td>2250</td>\n",
       "      <td>21</td>\n",
       "    </tr>\n",
       "    <tr>\n",
       "      <th>2</th>\n",
       "      <td>1.0</td>\n",
       "      <td>2750</td>\n",
       "      <td>23</td>\n",
       "    </tr>\n",
       "    <tr>\n",
       "      <th>3</th>\n",
       "      <td>5.0</td>\n",
       "      <td>8000</td>\n",
       "      <td>25</td>\n",
       "    </tr>\n",
       "    <tr>\n",
       "      <th>4</th>\n",
       "      <td>8.0</td>\n",
       "      <td>9000</td>\n",
       "      <td>28</td>\n",
       "    </tr>\n",
       "  </tbody>\n",
       "</table>\n",
       "</div>"
      ],
      "text/plain": [
       "   deneyim  maas  yas\n",
       "0      0.5  2500   22\n",
       "1      0.0  2250   21\n",
       "2      1.0  2750   23\n",
       "3      5.0  8000   25\n",
       "4      8.0  9000   28"
      ]
     },
     "execution_count": 7,
     "metadata": {},
     "output_type": "execute_result"
    }
   ],
   "source": [
    "dataset1.head()"
   ]
  },
  {
   "cell_type": "code",
   "execution_count": 8,
   "id": "c9559351",
   "metadata": {
    "execution": {
     "iopub.execute_input": "2023-07-11T12:32:55.271552Z",
     "iopub.status.busy": "2023-07-11T12:32:55.271126Z",
     "iopub.status.idle": "2023-07-11T12:32:55.278673Z",
     "shell.execute_reply": "2023-07-11T12:32:55.277709Z"
    },
    "papermill": {
     "duration": 0.016126,
     "end_time": "2023-07-11T12:32:55.281044",
     "exception": false,
     "start_time": "2023-07-11T12:32:55.264918",
     "status": "completed"
    },
    "tags": []
   },
   "outputs": [],
   "source": [
    "# split data\n",
    "\n",
    "feature_train, feature_test, label_train, label_test = train_test_split(feature, label, test_size = 0.2, random_state = 0)"
   ]
  },
  {
   "cell_type": "code",
   "execution_count": 9,
   "id": "703b5955",
   "metadata": {
    "execution": {
     "iopub.execute_input": "2023-07-11T12:32:55.292993Z",
     "iopub.status.busy": "2023-07-11T12:32:55.292599Z",
     "iopub.status.idle": "2023-07-11T12:32:55.301056Z",
     "shell.execute_reply": "2023-07-11T12:32:55.300175Z"
    },
    "papermill": {
     "duration": 0.017052,
     "end_time": "2023-07-11T12:32:55.303354",
     "exception": false,
     "start_time": "2023-07-11T12:32:55.286302",
     "status": "completed"
    },
    "tags": []
   },
   "outputs": [
    {
     "data": {
      "text/plain": [
       "8    22\n",
       "6    35\n",
       "4    28\n",
       "Name: yas, dtype: int64"
      ]
     },
     "execution_count": 9,
     "metadata": {},
     "output_type": "execute_result"
    }
   ],
   "source": [
    "label_test"
   ]
  },
  {
   "cell_type": "code",
   "execution_count": 10,
   "id": "b65be404",
   "metadata": {
    "execution": {
     "iopub.execute_input": "2023-07-11T12:32:55.315266Z",
     "iopub.status.busy": "2023-07-11T12:32:55.314843Z",
     "iopub.status.idle": "2023-07-11T12:32:55.352043Z",
     "shell.execute_reply": "2023-07-11T12:32:55.350792Z"
    },
    "papermill": {
     "duration": 0.046172,
     "end_time": "2023-07-11T12:32:55.354576",
     "exception": false,
     "start_time": "2023-07-11T12:32:55.308404",
     "status": "completed"
    },
    "tags": []
   },
   "outputs": [
    {
     "data": {
      "text/html": [
       "<style>#sk-container-id-1 {color: black;background-color: white;}#sk-container-id-1 pre{padding: 0;}#sk-container-id-1 div.sk-toggleable {background-color: white;}#sk-container-id-1 label.sk-toggleable__label {cursor: pointer;display: block;width: 100%;margin-bottom: 0;padding: 0.3em;box-sizing: border-box;text-align: center;}#sk-container-id-1 label.sk-toggleable__label-arrow:before {content: \"▸\";float: left;margin-right: 0.25em;color: #696969;}#sk-container-id-1 label.sk-toggleable__label-arrow:hover:before {color: black;}#sk-container-id-1 div.sk-estimator:hover label.sk-toggleable__label-arrow:before {color: black;}#sk-container-id-1 div.sk-toggleable__content {max-height: 0;max-width: 0;overflow: hidden;text-align: left;background-color: #f0f8ff;}#sk-container-id-1 div.sk-toggleable__content pre {margin: 0.2em;color: black;border-radius: 0.25em;background-color: #f0f8ff;}#sk-container-id-1 input.sk-toggleable__control:checked~div.sk-toggleable__content {max-height: 200px;max-width: 100%;overflow: auto;}#sk-container-id-1 input.sk-toggleable__control:checked~label.sk-toggleable__label-arrow:before {content: \"▾\";}#sk-container-id-1 div.sk-estimator input.sk-toggleable__control:checked~label.sk-toggleable__label {background-color: #d4ebff;}#sk-container-id-1 div.sk-label input.sk-toggleable__control:checked~label.sk-toggleable__label {background-color: #d4ebff;}#sk-container-id-1 input.sk-hidden--visually {border: 0;clip: rect(1px 1px 1px 1px);clip: rect(1px, 1px, 1px, 1px);height: 1px;margin: -1px;overflow: hidden;padding: 0;position: absolute;width: 1px;}#sk-container-id-1 div.sk-estimator {font-family: monospace;background-color: #f0f8ff;border: 1px dotted black;border-radius: 0.25em;box-sizing: border-box;margin-bottom: 0.5em;}#sk-container-id-1 div.sk-estimator:hover {background-color: #d4ebff;}#sk-container-id-1 div.sk-parallel-item::after {content: \"\";width: 100%;border-bottom: 1px solid gray;flex-grow: 1;}#sk-container-id-1 div.sk-label:hover label.sk-toggleable__label {background-color: #d4ebff;}#sk-container-id-1 div.sk-serial::before {content: \"\";position: absolute;border-left: 1px solid gray;box-sizing: border-box;top: 0;bottom: 0;left: 50%;z-index: 0;}#sk-container-id-1 div.sk-serial {display: flex;flex-direction: column;align-items: center;background-color: white;padding-right: 0.2em;padding-left: 0.2em;position: relative;}#sk-container-id-1 div.sk-item {position: relative;z-index: 1;}#sk-container-id-1 div.sk-parallel {display: flex;align-items: stretch;justify-content: center;background-color: white;position: relative;}#sk-container-id-1 div.sk-item::before, #sk-container-id-1 div.sk-parallel-item::before {content: \"\";position: absolute;border-left: 1px solid gray;box-sizing: border-box;top: 0;bottom: 0;left: 50%;z-index: -1;}#sk-container-id-1 div.sk-parallel-item {display: flex;flex-direction: column;z-index: 1;position: relative;background-color: white;}#sk-container-id-1 div.sk-parallel-item:first-child::after {align-self: flex-end;width: 50%;}#sk-container-id-1 div.sk-parallel-item:last-child::after {align-self: flex-start;width: 50%;}#sk-container-id-1 div.sk-parallel-item:only-child::after {width: 0;}#sk-container-id-1 div.sk-dashed-wrapped {border: 1px dashed gray;margin: 0 0.4em 0.5em 0.4em;box-sizing: border-box;padding-bottom: 0.4em;background-color: white;}#sk-container-id-1 div.sk-label label {font-family: monospace;font-weight: bold;display: inline-block;line-height: 1.2em;}#sk-container-id-1 div.sk-label-container {text-align: center;}#sk-container-id-1 div.sk-container {/* jupyter's `normalize.less` sets `[hidden] { display: none; }` but bootstrap.min.css set `[hidden] { display: none !important; }` so we also need the `!important` here to be able to override the default hidden behavior on the sphinx rendered scikit-learn.org. See: https://github.com/scikit-learn/scikit-learn/issues/21755 */display: inline-block !important;position: relative;}#sk-container-id-1 div.sk-text-repr-fallback {display: none;}</style><div id=\"sk-container-id-1\" class=\"sk-top-container\"><div class=\"sk-text-repr-fallback\"><pre>LinearRegression()</pre><b>In a Jupyter environment, please rerun this cell to show the HTML representation or trust the notebook. <br />On GitHub, the HTML representation is unable to render, please try loading this page with nbviewer.org.</b></div><div class=\"sk-container\" hidden><div class=\"sk-item\"><div class=\"sk-estimator sk-toggleable\"><input class=\"sk-toggleable__control sk-hidden--visually\" id=\"sk-estimator-id-1\" type=\"checkbox\" checked><label for=\"sk-estimator-id-1\" class=\"sk-toggleable__label sk-toggleable__label-arrow\">LinearRegression</label><div class=\"sk-toggleable__content\"><pre>LinearRegression()</pre></div></div></div></div></div>"
      ],
      "text/plain": [
       "LinearRegression()"
      ]
     },
     "execution_count": 10,
     "metadata": {},
     "output_type": "execute_result"
    }
   ],
   "source": [
    "model1 = LinearRegression()\n",
    "model1.fit(feature_train, label_train)"
   ]
  },
  {
   "cell_type": "code",
   "execution_count": 11,
   "id": "72693653",
   "metadata": {
    "execution": {
     "iopub.execute_input": "2023-07-11T12:32:55.368980Z",
     "iopub.status.busy": "2023-07-11T12:32:55.367959Z",
     "iopub.status.idle": "2023-07-11T12:32:55.375864Z",
     "shell.execute_reply": "2023-07-11T12:32:55.374731Z"
    },
    "papermill": {
     "duration": 0.016699,
     "end_time": "2023-07-11T12:32:55.378216",
     "exception": false,
     "start_time": "2023-07-11T12:32:55.361517",
     "status": "completed"
    },
    "tags": []
   },
   "outputs": [],
   "source": [
    "prediction = model1.predict(feature_test)"
   ]
  },
  {
   "cell_type": "code",
   "execution_count": 12,
   "id": "86694631",
   "metadata": {
    "execution": {
     "iopub.execute_input": "2023-07-11T12:32:55.390357Z",
     "iopub.status.busy": "2023-07-11T12:32:55.389965Z",
     "iopub.status.idle": "2023-07-11T12:32:55.397203Z",
     "shell.execute_reply": "2023-07-11T12:32:55.396034Z"
    },
    "papermill": {
     "duration": 0.01657,
     "end_time": "2023-07-11T12:32:55.399937",
     "exception": false,
     "start_time": "2023-07-11T12:32:55.383367",
     "status": "completed"
    },
    "tags": []
   },
   "outputs": [
    {
     "data": {
      "text/plain": [
       "array([23.06792776, 33.36535571, 30.05366012])"
      ]
     },
     "execution_count": 12,
     "metadata": {},
     "output_type": "execute_result"
    }
   ],
   "source": [
    "prediction"
   ]
  },
  {
   "cell_type": "code",
   "execution_count": 13,
   "id": "78f7be73",
   "metadata": {
    "execution": {
     "iopub.execute_input": "2023-07-11T12:32:55.412448Z",
     "iopub.status.busy": "2023-07-11T12:32:55.412060Z",
     "iopub.status.idle": "2023-07-11T12:32:55.418664Z",
     "shell.execute_reply": "2023-07-11T12:32:55.417549Z"
    },
    "papermill": {
     "duration": 0.015619,
     "end_time": "2023-07-11T12:32:55.420989",
     "exception": false,
     "start_time": "2023-07-11T12:32:55.405370",
     "status": "completed"
    },
    "tags": []
   },
   "outputs": [
    {
     "name": "stdout",
     "output_type": "stream",
     "text": [
      "2.6766838439009533\n"
     ]
    }
   ],
   "source": [
    "from sklearn.metrics import mean_squared_error\n",
    "\n",
    "print(mean_squared_error(prediction, label_test))"
   ]
  },
  {
   "cell_type": "code",
   "execution_count": 14,
   "id": "6c8bc65f",
   "metadata": {
    "execution": {
     "iopub.execute_input": "2023-07-11T12:32:55.433196Z",
     "iopub.status.busy": "2023-07-11T12:32:55.432816Z",
     "iopub.status.idle": "2023-07-11T12:32:55.439624Z",
     "shell.execute_reply": "2023-07-11T12:32:55.438298Z"
    },
    "papermill": {
     "duration": 0.015934,
     "end_time": "2023-07-11T12:32:55.442144",
     "exception": false,
     "start_time": "2023-07-11T12:32:55.426210",
     "status": "completed"
    },
    "tags": []
   },
   "outputs": [
    {
     "name": "stdout",
     "output_type": "stream",
     "text": [
      "0.8547077428999793\n"
     ]
    }
   ],
   "source": [
    "# the higher the r2 score, the better the model\n",
    "from sklearn.metrics import r2_score\n",
    "print(r2_score(prediction, label_test))"
   ]
  },
  {
   "cell_type": "code",
   "execution_count": null,
   "id": "38a3fe60",
   "metadata": {
    "papermill": {
     "duration": 0.005637,
     "end_time": "2023-07-11T12:32:55.453568",
     "exception": false,
     "start_time": "2023-07-11T12:32:55.447931",
     "status": "completed"
    },
    "tags": []
   },
   "outputs": [],
   "source": []
  }
 ],
 "metadata": {
  "kernelspec": {
   "display_name": "Python 3",
   "language": "python",
   "name": "python3"
  },
  "language_info": {
   "codemirror_mode": {
    "name": "ipython",
    "version": 3
   },
   "file_extension": ".py",
   "mimetype": "text/x-python",
   "name": "python",
   "nbconvert_exporter": "python",
   "pygments_lexer": "ipython3",
   "version": "3.10.12"
  },
  "papermill": {
   "default_parameters": {},
   "duration": 14.539146,
   "end_time": "2023-07-11T12:32:56.482718",
   "environment_variables": {},
   "exception": null,
   "input_path": "__notebook__.ipynb",
   "output_path": "__notebook__.ipynb",
   "parameters": {},
   "start_time": "2023-07-11T12:32:41.943572",
   "version": "2.4.0"
  }
 },
 "nbformat": 4,
 "nbformat_minor": 5
}
