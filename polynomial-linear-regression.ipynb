{
 "cells": [
  {
   "cell_type": "code",
   "execution_count": 1,
   "id": "3e551729",
   "metadata": {
    "_cell_guid": "b1076dfc-b9ad-4769-8c92-a6c4dae69d19",
    "_uuid": "8f2839f25d086af736a60e9eeb907d3b93b6e0e5",
    "execution": {
     "iopub.execute_input": "2023-07-11T13:58:16.835289Z",
     "iopub.status.busy": "2023-07-11T13:58:16.834323Z",
     "iopub.status.idle": "2023-07-11T13:58:18.473448Z",
     "shell.execute_reply": "2023-07-11T13:58:18.472123Z"
    },
    "papermill": {
     "duration": 1.648155,
     "end_time": "2023-07-11T13:58:18.476492",
     "exception": false,
     "start_time": "2023-07-11T13:58:16.828337",
     "status": "completed"
    },
    "tags": []
   },
   "outputs": [
    {
     "name": "stderr",
     "output_type": "stream",
     "text": [
      "/opt/conda/lib/python3.10/site-packages/scipy/__init__.py:146: UserWarning: A NumPy version >=1.16.5 and <1.23.0 is required for this version of SciPy (detected version 1.23.5\n",
      "  warnings.warn(f\"A NumPy version >={np_minversion} and <{np_maxversion}\"\n"
     ]
    }
   ],
   "source": [
    "# Simple Linear Regression\n",
    "# y = w(0) + w(1)x\n",
    "\n",
    "# Multiple Linear Regression\n",
    "# y = w(0) + w(1)x1 + w(2)x2 + ... + w(n)xn\n",
    "\n",
    "# Polynomial Linear Regression\n",
    "# y = w(0) + w(1)x + w(2)x^2 + ... + w(n)x^n\n",
    "\n",
    "import pandas as pd\n",
    "import numpy as np\n",
    "from sklearn.linear_model import LinearRegression\n",
    "import matplotlib.pyplot as plt"
   ]
  },
  {
   "cell_type": "code",
   "execution_count": 2,
   "id": "04fe2aaf",
   "metadata": {
    "execution": {
     "iopub.execute_input": "2023-07-11T13:58:18.486699Z",
     "iopub.status.busy": "2023-07-11T13:58:18.486281Z",
     "iopub.status.idle": "2023-07-11T13:58:18.945299Z",
     "shell.execute_reply": "2023-07-11T13:58:18.943982Z"
    },
    "papermill": {
     "duration": 0.467062,
     "end_time": "2023-07-11T13:58:18.947924",
     "exception": false,
     "start_time": "2023-07-11T13:58:18.480862",
     "status": "completed"
    },
    "tags": []
   },
   "outputs": [
    {
     "data": {
      "text/html": [
       "<div>\n",
       "<style scoped>\n",
       "    .dataframe tbody tr th:only-of-type {\n",
       "        vertical-align: middle;\n",
       "    }\n",
       "\n",
       "    .dataframe tbody tr th {\n",
       "        vertical-align: top;\n",
       "    }\n",
       "\n",
       "    .dataframe thead th {\n",
       "        text-align: right;\n",
       "    }\n",
       "</style>\n",
       "<table border=\"1\" class=\"dataframe\">\n",
       "  <thead>\n",
       "    <tr style=\"text-align: right;\">\n",
       "      <th></th>\n",
       "      <th>Number</th>\n",
       "      <th>Square</th>\n",
       "    </tr>\n",
       "  </thead>\n",
       "  <tbody>\n",
       "    <tr>\n",
       "      <th>0</th>\n",
       "      <td>0</td>\n",
       "      <td>0</td>\n",
       "    </tr>\n",
       "    <tr>\n",
       "      <th>1</th>\n",
       "      <td>1</td>\n",
       "      <td>1</td>\n",
       "    </tr>\n",
       "    <tr>\n",
       "      <th>2</th>\n",
       "      <td>2</td>\n",
       "      <td>4</td>\n",
       "    </tr>\n",
       "    <tr>\n",
       "      <th>3</th>\n",
       "      <td>3</td>\n",
       "      <td>9</td>\n",
       "    </tr>\n",
       "    <tr>\n",
       "      <th>4</th>\n",
       "      <td>4</td>\n",
       "      <td>16</td>\n",
       "    </tr>\n",
       "    <tr>\n",
       "      <th>5</th>\n",
       "      <td>5</td>\n",
       "      <td>25</td>\n",
       "    </tr>\n",
       "    <tr>\n",
       "      <th>6</th>\n",
       "      <td>6</td>\n",
       "      <td>36</td>\n",
       "    </tr>\n",
       "    <tr>\n",
       "      <th>7</th>\n",
       "      <td>7</td>\n",
       "      <td>49</td>\n",
       "    </tr>\n",
       "    <tr>\n",
       "      <th>8</th>\n",
       "      <td>8</td>\n",
       "      <td>64</td>\n",
       "    </tr>\n",
       "    <tr>\n",
       "      <th>9</th>\n",
       "      <td>9</td>\n",
       "      <td>81</td>\n",
       "    </tr>\n",
       "    <tr>\n",
       "      <th>10</th>\n",
       "      <td>10</td>\n",
       "      <td>100</td>\n",
       "    </tr>\n",
       "    <tr>\n",
       "      <th>11</th>\n",
       "      <td>11</td>\n",
       "      <td>121</td>\n",
       "    </tr>\n",
       "    <tr>\n",
       "      <th>12</th>\n",
       "      <td>12</td>\n",
       "      <td>144</td>\n",
       "    </tr>\n",
       "    <tr>\n",
       "      <th>13</th>\n",
       "      <td>13</td>\n",
       "      <td>169</td>\n",
       "    </tr>\n",
       "    <tr>\n",
       "      <th>14</th>\n",
       "      <td>14</td>\n",
       "      <td>196</td>\n",
       "    </tr>\n",
       "    <tr>\n",
       "      <th>15</th>\n",
       "      <td>15</td>\n",
       "      <td>225</td>\n",
       "    </tr>\n",
       "    <tr>\n",
       "      <th>16</th>\n",
       "      <td>16</td>\n",
       "      <td>256</td>\n",
       "    </tr>\n",
       "    <tr>\n",
       "      <th>17</th>\n",
       "      <td>17</td>\n",
       "      <td>289</td>\n",
       "    </tr>\n",
       "    <tr>\n",
       "      <th>18</th>\n",
       "      <td>18</td>\n",
       "      <td>324</td>\n",
       "    </tr>\n",
       "  </tbody>\n",
       "</table>\n",
       "</div>"
      ],
      "text/plain": [
       "    Number  Square\n",
       "0        0       0\n",
       "1        1       1\n",
       "2        2       4\n",
       "3        3       9\n",
       "4        4      16\n",
       "5        5      25\n",
       "6        6      36\n",
       "7        7      49\n",
       "8        8      64\n",
       "9        9      81\n",
       "10      10     100\n",
       "11      11     121\n",
       "12      12     144\n",
       "13      13     169\n",
       "14      14     196\n",
       "15      15     225\n",
       "16      16     256\n",
       "17      17     289\n",
       "18      18     324"
      ]
     },
     "execution_count": 2,
     "metadata": {},
     "output_type": "execute_result"
    }
   ],
   "source": [
    "dataset1 = pd.read_excel('/kaggle/input/polynomial-reg-num-sq-dataset-for-exercise/Polynomial_regression.xlsx')\n",
    "dataset1"
   ]
  },
  {
   "cell_type": "code",
   "execution_count": 3,
   "id": "b9f6cc56",
   "metadata": {
    "execution": {
     "iopub.execute_input": "2023-07-11T13:58:18.959986Z",
     "iopub.status.busy": "2023-07-11T13:58:18.958179Z",
     "iopub.status.idle": "2023-07-11T13:58:18.965021Z",
     "shell.execute_reply": "2023-07-11T13:58:18.963937Z"
    },
    "papermill": {
     "duration": 0.015008,
     "end_time": "2023-07-11T13:58:18.967510",
     "exception": false,
     "start_time": "2023-07-11T13:58:18.952502",
     "status": "completed"
    },
    "tags": []
   },
   "outputs": [],
   "source": [
    "X = dataset1.iloc[:,:-1]  #Number\n",
    "y = dataset1.iloc[:,1]    # Square"
   ]
  },
  {
   "cell_type": "code",
   "execution_count": 4,
   "id": "f7301ca6",
   "metadata": {
    "execution": {
     "iopub.execute_input": "2023-07-11T13:58:18.977787Z",
     "iopub.status.busy": "2023-07-11T13:58:18.977234Z",
     "iopub.status.idle": "2023-07-11T13:58:19.008887Z",
     "shell.execute_reply": "2023-07-11T13:58:19.007806Z"
    },
    "papermill": {
     "duration": 0.039589,
     "end_time": "2023-07-11T13:58:19.011431",
     "exception": false,
     "start_time": "2023-07-11T13:58:18.971842",
     "status": "completed"
    },
    "tags": []
   },
   "outputs": [
    {
     "data": {
      "text/html": [
       "<style>#sk-container-id-1 {color: black;background-color: white;}#sk-container-id-1 pre{padding: 0;}#sk-container-id-1 div.sk-toggleable {background-color: white;}#sk-container-id-1 label.sk-toggleable__label {cursor: pointer;display: block;width: 100%;margin-bottom: 0;padding: 0.3em;box-sizing: border-box;text-align: center;}#sk-container-id-1 label.sk-toggleable__label-arrow:before {content: \"▸\";float: left;margin-right: 0.25em;color: #696969;}#sk-container-id-1 label.sk-toggleable__label-arrow:hover:before {color: black;}#sk-container-id-1 div.sk-estimator:hover label.sk-toggleable__label-arrow:before {color: black;}#sk-container-id-1 div.sk-toggleable__content {max-height: 0;max-width: 0;overflow: hidden;text-align: left;background-color: #f0f8ff;}#sk-container-id-1 div.sk-toggleable__content pre {margin: 0.2em;color: black;border-radius: 0.25em;background-color: #f0f8ff;}#sk-container-id-1 input.sk-toggleable__control:checked~div.sk-toggleable__content {max-height: 200px;max-width: 100%;overflow: auto;}#sk-container-id-1 input.sk-toggleable__control:checked~label.sk-toggleable__label-arrow:before {content: \"▾\";}#sk-container-id-1 div.sk-estimator input.sk-toggleable__control:checked~label.sk-toggleable__label {background-color: #d4ebff;}#sk-container-id-1 div.sk-label input.sk-toggleable__control:checked~label.sk-toggleable__label {background-color: #d4ebff;}#sk-container-id-1 input.sk-hidden--visually {border: 0;clip: rect(1px 1px 1px 1px);clip: rect(1px, 1px, 1px, 1px);height: 1px;margin: -1px;overflow: hidden;padding: 0;position: absolute;width: 1px;}#sk-container-id-1 div.sk-estimator {font-family: monospace;background-color: #f0f8ff;border: 1px dotted black;border-radius: 0.25em;box-sizing: border-box;margin-bottom: 0.5em;}#sk-container-id-1 div.sk-estimator:hover {background-color: #d4ebff;}#sk-container-id-1 div.sk-parallel-item::after {content: \"\";width: 100%;border-bottom: 1px solid gray;flex-grow: 1;}#sk-container-id-1 div.sk-label:hover label.sk-toggleable__label {background-color: #d4ebff;}#sk-container-id-1 div.sk-serial::before {content: \"\";position: absolute;border-left: 1px solid gray;box-sizing: border-box;top: 0;bottom: 0;left: 50%;z-index: 0;}#sk-container-id-1 div.sk-serial {display: flex;flex-direction: column;align-items: center;background-color: white;padding-right: 0.2em;padding-left: 0.2em;position: relative;}#sk-container-id-1 div.sk-item {position: relative;z-index: 1;}#sk-container-id-1 div.sk-parallel {display: flex;align-items: stretch;justify-content: center;background-color: white;position: relative;}#sk-container-id-1 div.sk-item::before, #sk-container-id-1 div.sk-parallel-item::before {content: \"\";position: absolute;border-left: 1px solid gray;box-sizing: border-box;top: 0;bottom: 0;left: 50%;z-index: -1;}#sk-container-id-1 div.sk-parallel-item {display: flex;flex-direction: column;z-index: 1;position: relative;background-color: white;}#sk-container-id-1 div.sk-parallel-item:first-child::after {align-self: flex-end;width: 50%;}#sk-container-id-1 div.sk-parallel-item:last-child::after {align-self: flex-start;width: 50%;}#sk-container-id-1 div.sk-parallel-item:only-child::after {width: 0;}#sk-container-id-1 div.sk-dashed-wrapped {border: 1px dashed gray;margin: 0 0.4em 0.5em 0.4em;box-sizing: border-box;padding-bottom: 0.4em;background-color: white;}#sk-container-id-1 div.sk-label label {font-family: monospace;font-weight: bold;display: inline-block;line-height: 1.2em;}#sk-container-id-1 div.sk-label-container {text-align: center;}#sk-container-id-1 div.sk-container {/* jupyter's `normalize.less` sets `[hidden] { display: none; }` but bootstrap.min.css set `[hidden] { display: none !important; }` so we also need the `!important` here to be able to override the default hidden behavior on the sphinx rendered scikit-learn.org. See: https://github.com/scikit-learn/scikit-learn/issues/21755 */display: inline-block !important;position: relative;}#sk-container-id-1 div.sk-text-repr-fallback {display: none;}</style><div id=\"sk-container-id-1\" class=\"sk-top-container\"><div class=\"sk-text-repr-fallback\"><pre>LinearRegression()</pre><b>In a Jupyter environment, please rerun this cell to show the HTML representation or trust the notebook. <br />On GitHub, the HTML representation is unable to render, please try loading this page with nbviewer.org.</b></div><div class=\"sk-container\" hidden><div class=\"sk-item\"><div class=\"sk-estimator sk-toggleable\"><input class=\"sk-toggleable__control sk-hidden--visually\" id=\"sk-estimator-id-1\" type=\"checkbox\" checked><label for=\"sk-estimator-id-1\" class=\"sk-toggleable__label sk-toggleable__label-arrow\">LinearRegression</label><div class=\"sk-toggleable__content\"><pre>LinearRegression()</pre></div></div></div></div></div>"
      ],
      "text/plain": [
       "LinearRegression()"
      ]
     },
     "execution_count": 4,
     "metadata": {},
     "output_type": "execute_result"
    }
   ],
   "source": [
    "# Training a model using simple linear regression\n",
    "model1 = LinearRegression()\n",
    "model1.fit(X,y)"
   ]
  },
  {
   "cell_type": "code",
   "execution_count": 5,
   "id": "ffda0927",
   "metadata": {
    "execution": {
     "iopub.execute_input": "2023-07-11T13:58:19.022839Z",
     "iopub.status.busy": "2023-07-11T13:58:19.022441Z",
     "iopub.status.idle": "2023-07-11T13:58:19.029139Z",
     "shell.execute_reply": "2023-07-11T13:58:19.027901Z"
    },
    "papermill": {
     "duration": 0.015417,
     "end_time": "2023-07-11T13:58:19.031508",
     "exception": false,
     "start_time": "2023-07-11T13:58:19.016091",
     "status": "completed"
    },
    "tags": []
   },
   "outputs": [],
   "source": [
    "#Prediction\n",
    "prediction = model1.predict(X)"
   ]
  },
  {
   "cell_type": "code",
   "execution_count": 6,
   "id": "d4d453b2",
   "metadata": {
    "execution": {
     "iopub.execute_input": "2023-07-11T13:58:19.042344Z",
     "iopub.status.busy": "2023-07-11T13:58:19.041922Z",
     "iopub.status.idle": "2023-07-11T13:58:19.348026Z",
     "shell.execute_reply": "2023-07-11T13:58:19.346827Z"
    },
    "papermill": {
     "duration": 0.314485,
     "end_time": "2023-07-11T13:58:19.350510",
     "exception": false,
     "start_time": "2023-07-11T13:58:19.036025",
     "status": "completed"
    },
    "tags": []
   },
   "outputs": [
    {
     "data": {
      "image/png": "[encoded data removed]",
      "text/plain": [
       "<Figure size 640x480 with 1 Axes>"
      ]
     },
     "metadata": {},
     "output_type": "display_data"
    }
   ],
   "source": [
    "plt.scatter(X,y)\n",
    "plt.plot(X,prediction)\n",
    "plt.xlabel('Number')\n",
    "plt.ylabel('Square')\n",
    "plt.legend()\n",
    "plt.show()"
   ]
  },
  {
   "cell_type": "code",
   "execution_count": 7,
   "id": "118a34ed",
   "metadata": {
    "execution": {
     "iopub.execute_input": "2023-07-11T13:58:19.362222Z",
     "iopub.status.busy": "2023-07-11T13:58:19.361820Z",
     "iopub.status.idle": "2023-07-11T13:58:19.635833Z",
     "shell.execute_reply": "2023-07-11T13:58:19.634440Z"
    },
    "papermill": {
     "duration": 0.283146,
     "end_time": "2023-07-11T13:58:19.638572",
     "exception": false,
     "start_time": "2023-07-11T13:58:19.355426",
     "status": "completed"
    },
    "tags": []
   },
   "outputs": [
    {
     "data": {
      "image/png": "[encoded data removed]",
      "text/plain": [
       "<Figure size 640x480 with 1 Axes>"
      ]
     },
     "metadata": {},
     "output_type": "display_data"
    }
   ],
   "source": [
    "#training a model using Polynomial regression\n",
    "\n",
    "from sklearn.preprocessing import PolynomialFeatures\n",
    "\n",
    "poly_ft = PolynomialFeatures(degree= 2)\n",
    "new_X = poly_ft.fit_transform(X) \n",
    "\n",
    "poly_reg_model = LinearRegression()\n",
    "poly_reg_model.fit(new_X, y)\n",
    "\n",
    "# prediction using polynomial regression\n",
    "prediction = poly_reg_model.predict(new_X)\n",
    "\n",
    "plt.scatter(X, y)\n",
    "plt.plot(X, prediction)\n",
    "plt.show()"
   ]
  },
  {
   "cell_type": "markdown",
   "id": "f73baf46",
   "metadata": {
    "papermill": {
     "duration": 0.005325,
     "end_time": "2023-07-11T13:58:19.650155",
     "exception": false,
     "start_time": "2023-07-11T13:58:19.644830",
     "status": "completed"
    },
    "tags": []
   },
   "source": [
    "# Same above example With train_test_split"
   ]
  },
  {
   "cell_type": "code",
   "execution_count": 8,
   "id": "74723906",
   "metadata": {
    "execution": {
     "iopub.execute_input": "2023-07-11T13:58:19.662778Z",
     "iopub.status.busy": "2023-07-11T13:58:19.662326Z",
     "iopub.status.idle": "2023-07-11T13:58:19.675888Z",
     "shell.execute_reply": "2023-07-11T13:58:19.674684Z"
    },
    "papermill": {
     "duration": 0.0226,
     "end_time": "2023-07-11T13:58:19.678167",
     "exception": false,
     "start_time": "2023-07-11T13:58:19.655567",
     "status": "completed"
    },
    "tags": []
   },
   "outputs": [],
   "source": [
    "from sklearn.model_selection import train_test_split\n",
    "\n",
    "X = dataset1.iloc[:,:-1]  #Number\n",
    "y = dataset1.iloc[:,1]    # Square\n",
    "\n",
    "X_train, X_test, y_train, y_test = train_test_split(X, y, test_size = 0.2, random_state=0)"
   ]
  },
  {
   "cell_type": "code",
   "execution_count": 9,
   "id": "3132ab12",
   "metadata": {
    "execution": {
     "iopub.execute_input": "2023-07-11T13:58:19.691297Z",
     "iopub.status.busy": "2023-07-11T13:58:19.690539Z",
     "iopub.status.idle": "2023-07-11T13:58:19.701502Z",
     "shell.execute_reply": "2023-07-11T13:58:19.700411Z"
    },
    "papermill": {
     "duration": 0.019922,
     "end_time": "2023-07-11T13:58:19.703815",
     "exception": false,
     "start_time": "2023-07-11T13:58:19.683893",
     "status": "completed"
    },
    "tags": []
   },
   "outputs": [
    {
     "data": {
      "text/html": [
       "<style>#sk-container-id-2 {color: black;background-color: white;}#sk-container-id-2 pre{padding: 0;}#sk-container-id-2 div.sk-toggleable {background-color: white;}#sk-container-id-2 label.sk-toggleable__label {cursor: pointer;display: block;width: 100%;margin-bottom: 0;padding: 0.3em;box-sizing: border-box;text-align: center;}#sk-container-id-2 label.sk-toggleable__label-arrow:before {content: \"▸\";float: left;margin-right: 0.25em;color: #696969;}#sk-container-id-2 label.sk-toggleable__label-arrow:hover:before {color: black;}#sk-container-id-2 div.sk-estimator:hover label.sk-toggleable__label-arrow:before {color: black;}#sk-container-id-2 div.sk-toggleable__content {max-height: 0;max-width: 0;overflow: hidden;text-align: left;background-color: #f0f8ff;}#sk-container-id-2 div.sk-toggleable__content pre {margin: 0.2em;color: black;border-radius: 0.25em;background-color: #f0f8ff;}#sk-container-id-2 input.sk-toggleable__control:checked~div.sk-toggleable__content {max-height: 200px;max-width: 100%;overflow: auto;}#sk-container-id-2 input.sk-toggleable__control:checked~label.sk-toggleable__label-arrow:before {content: \"▾\";}#sk-container-id-2 div.sk-estimator input.sk-toggleable__control:checked~label.sk-toggleable__label {background-color: #d4ebff;}#sk-container-id-2 div.sk-label input.sk-toggleable__control:checked~label.sk-toggleable__label {background-color: #d4ebff;}#sk-container-id-2 input.sk-hidden--visually {border: 0;clip: rect(1px 1px 1px 1px);clip: rect(1px, 1px, 1px, 1px);height: 1px;margin: -1px;overflow: hidden;padding: 0;position: absolute;width: 1px;}#sk-container-id-2 div.sk-estimator {font-family: monospace;background-color: #f0f8ff;border: 1px dotted black;border-radius: 0.25em;box-sizing: border-box;margin-bottom: 0.5em;}#sk-container-id-2 div.sk-estimator:hover {background-color: #d4ebff;}#sk-container-id-2 div.sk-parallel-item::after {content: \"\";width: 100%;border-bottom: 1px solid gray;flex-grow: 1;}#sk-container-id-2 div.sk-label:hover label.sk-toggleable__label {background-color: #d4ebff;}#sk-container-id-2 div.sk-serial::before {content: \"\";position: absolute;border-left: 1px solid gray;box-sizing: border-box;top: 0;bottom: 0;left: 50%;z-index: 0;}#sk-container-id-2 div.sk-serial {display: flex;flex-direction: column;align-items: center;background-color: white;padding-right: 0.2em;padding-left: 0.2em;position: relative;}#sk-container-id-2 div.sk-item {position: relative;z-index: 1;}#sk-container-id-2 div.sk-parallel {display: flex;align-items: stretch;justify-content: center;background-color: white;position: relative;}#sk-container-id-2 div.sk-item::before, #sk-container-id-2 div.sk-parallel-item::before {content: \"\";position: absolute;border-left: 1px solid gray;box-sizing: border-box;top: 0;bottom: 0;left: 50%;z-index: -1;}#sk-container-id-2 div.sk-parallel-item {display: flex;flex-direction: column;z-index: 1;position: relative;background-color: white;}#sk-container-id-2 div.sk-parallel-item:first-child::after {align-self: flex-end;width: 50%;}#sk-container-id-2 div.sk-parallel-item:last-child::after {align-self: flex-start;width: 50%;}#sk-container-id-2 div.sk-parallel-item:only-child::after {width: 0;}#sk-container-id-2 div.sk-dashed-wrapped {border: 1px dashed gray;margin: 0 0.4em 0.5em 0.4em;box-sizing: border-box;padding-bottom: 0.4em;background-color: white;}#sk-container-id-2 div.sk-label label {font-family: monospace;font-weight: bold;display: inline-block;line-height: 1.2em;}#sk-container-id-2 div.sk-label-container {text-align: center;}#sk-container-id-2 div.sk-container {/* jupyter's `normalize.less` sets `[hidden] { display: none; }` but bootstrap.min.css set `[hidden] { display: none !important; }` so we also need the `!important` here to be able to override the default hidden behavior on the sphinx rendered scikit-learn.org. See: https://github.com/scikit-learn/scikit-learn/issues/21755 */display: inline-block !important;position: relative;}#sk-container-id-2 div.sk-text-repr-fallback {display: none;}</style><div id=\"sk-container-id-2\" class=\"sk-top-container\"><div class=\"sk-text-repr-fallback\"><pre>LinearRegression()</pre><b>In a Jupyter environment, please rerun this cell to show the HTML representation or trust the notebook. <br />On GitHub, the HTML representation is unable to render, please try loading this page with nbviewer.org.</b></div><div class=\"sk-container\" hidden><div class=\"sk-item\"><div class=\"sk-estimator sk-toggleable\"><input class=\"sk-toggleable__control sk-hidden--visually\" id=\"sk-estimator-id-2\" type=\"checkbox\" checked><label for=\"sk-estimator-id-2\" class=\"sk-toggleable__label sk-toggleable__label-arrow\">LinearRegression</label><div class=\"sk-toggleable__content\"><pre>LinearRegression()</pre></div></div></div></div></div>"
      ],
      "text/plain": [
       "LinearRegression()"
      ]
     },
     "execution_count": 9,
     "metadata": {},
     "output_type": "execute_result"
    }
   ],
   "source": [
    "model2 = LinearRegression()\n",
    "model2.fit(X_train, y_train)"
   ]
  },
  {
   "cell_type": "code",
   "execution_count": 10,
   "id": "cec2bd3c",
   "metadata": {
    "execution": {
     "iopub.execute_input": "2023-07-11T13:58:19.717444Z",
     "iopub.status.busy": "2023-07-11T13:58:19.717059Z",
     "iopub.status.idle": "2023-07-11T13:58:19.971283Z",
     "shell.execute_reply": "2023-07-11T13:58:19.970037Z"
    },
    "papermill": {
     "duration": 0.264299,
     "end_time": "2023-07-11T13:58:19.973780",
     "exception": false,
     "start_time": "2023-07-11T13:58:19.709481",
     "status": "completed"
    },
    "tags": []
   },
   "outputs": [
    {
     "data": {
      "image/png": "[encoded data removed]",
      "text/plain": [
       "<Figure size 640x480 with 1 Axes>"
      ]
     },
     "metadata": {},
     "output_type": "display_data"
    }
   ],
   "source": [
    "prediction = model2.predict(X_test)\n",
    "\n",
    "plt.scatter(X_test, y_test)\n",
    "plt.plot(X_test, prediction)\n",
    "plt.show()"
   ]
  },
  {
   "cell_type": "code",
   "execution_count": 11,
   "id": "36fa0cfe",
   "metadata": {
    "execution": {
     "iopub.execute_input": "2023-07-11T13:58:19.989783Z",
     "iopub.status.busy": "2023-07-11T13:58:19.988524Z",
     "iopub.status.idle": "2023-07-11T13:58:20.254355Z",
     "shell.execute_reply": "2023-07-11T13:58:20.253148Z"
    },
    "papermill": {
     "duration": 0.275849,
     "end_time": "2023-07-11T13:58:20.256927",
     "exception": false,
     "start_time": "2023-07-11T13:58:19.981078",
     "status": "completed"
    },
    "tags": []
   },
   "outputs": [
    {
     "data": {
      "image/png": "[encoded data removed]",
      "text/plain": [
       "<Figure size 640x480 with 1 Axes>"
      ]
     },
     "metadata": {},
     "output_type": "display_data"
    }
   ],
   "source": [
    "# Using Polynomial Regression\n",
    "\n",
    "from sklearn.preprocessing import PolynomialFeatures\n",
    "\n",
    "poly_ft = PolynomialFeatures(degree= 2)\n",
    "new_x_train = poly_ft.fit_transform(X_train)\n",
    "new_x_test = poly_ft.fit_transform(X_test)\n",
    "\n",
    "poly_model = LinearRegression()\n",
    "poly_model.fit(new_x_train, y_train)\n",
    "\n",
    "prediction = poly_model.predict(new_x_test)\n",
    "\n",
    "plt.scatter(X_test, y_test)\n",
    "plt.plot(X_test, prediction)\n",
    "plt.show()                  #in the plot, random value has been assigned to test set, hence such graph"
   ]
  },
  {
   "cell_type": "code",
   "execution_count": null,
   "id": "217a18f4",
   "metadata": {
    "papermill": {
     "duration": 0.006505,
     "end_time": "2023-07-11T13:58:20.269769",
     "exception": false,
     "start_time": "2023-07-11T13:58:20.263264",
     "status": "completed"
    },
    "tags": []
   },
   "outputs": [],
   "source": []
  },
  {
   "cell_type": "code",
   "execution_count": null,
   "id": "b469ab36",
   "metadata": {
    "papermill": {
     "duration": 0.006492,
     "end_time": "2023-07-11T13:58:20.282882",
     "exception": false,
     "start_time": "2023-07-11T13:58:20.276390",
     "status": "completed"
    },
    "tags": []
   },
   "outputs": [],
   "source": []
  }
 ],
 "metadata": {
  "kernelspec": {
   "display_name": "Python 3",
   "language": "python",
   "name": "python3"
  },
  "language_info": {
   "codemirror_mode": {
    "name": "ipython",
    "version": 3
   },
   "file_extension": ".py",
   "mimetype": "text/x-python",
   "name": "python",
   "nbconvert_exporter": "python",
   "pygments_lexer": "ipython3",
   "version": "3.10.12"
  },
  "papermill": {
   "default_parameters": {},
   "duration": 16.108299,
   "end_time": "2023-07-11T13:58:21.313199",
   "environment_variables": {},
   "exception": null,
   "input_path": "__notebook__.ipynb",
   "output_path": "__notebook__.ipynb",
   "parameters": {},
   "start_time": "2023-07-11T13:58:05.204900",
   "version": "2.4.0"
  }
 },
 "nbformat": 4,
 "nbformat_minor": 5
}
