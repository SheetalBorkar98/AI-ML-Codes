{
 "cells": [
  {
   "cell_type": "code",
   "execution_count": 1,
   "id": "4dfb86ef",
   "metadata": {
    "execution": {
     "iopub.execute_input": "2023-07-10T18:27:47.407745Z",
     "iopub.status.busy": "2023-07-10T18:27:47.407333Z",
     "iopub.status.idle": "2023-07-10T18:27:47.413195Z",
     "shell.execute_reply": "2023-07-10T18:27:47.411993Z"
    },
    "papermill": {
     "duration": 0.018909,
     "end_time": "2023-07-10T18:27:47.418818",
     "exception": false,
     "start_time": "2023-07-10T18:27:47.399909",
     "status": "completed"
    },
    "tags": []
   },
   "outputs": [],
   "source": [
    "# Features = A measurable characteristic which is given as an input for prediction.\n",
    "# Features are also called as Attributes. They are characteristics of label.\n",
    "\n",
    "# Label = It represents the output value, the thing which we are trying to predict\n",
    "# using features.\n",
    "# ____________    ____________    _________\n",
    "# | Features | -> | ML model | -> | Label |\n",
    "# ------------    ------------    ---------"
   ]
  },
  {
   "cell_type": "code",
   "execution_count": 2,
   "id": "9e133542",
   "metadata": {
    "execution": {
     "iopub.execute_input": "2023-07-10T18:27:47.430575Z",
     "iopub.status.busy": "2023-07-10T18:27:47.430171Z",
     "iopub.status.idle": "2023-07-10T18:27:49.320081Z",
     "shell.execute_reply": "2023-07-10T18:27:49.318795Z"
    },
    "papermill": {
     "duration": 1.899067,
     "end_time": "2023-07-10T18:27:49.322925",
     "exception": false,
     "start_time": "2023-07-10T18:27:47.423858",
     "status": "completed"
    },
    "tags": []
   },
   "outputs": [
    {
     "name": "stderr",
     "output_type": "stream",
     "text": [
      "/opt/conda/lib/python3.10/site-packages/scipy/__init__.py:146: UserWarning: A NumPy version >=1.16.5 and <1.23.0 is required for this version of SciPy (detected version 1.23.5\n",
      "  warnings.warn(f\"A NumPy version >={np_minversion} and <{np_maxversion}\"\n"
     ]
    },
    {
     "name": "stdout",
     "output_type": "stream",
     "text": [
      "[[3.5]\n",
      " [4. ]\n",
      " [4.5]]\n",
      "MSE:  0.5\n",
      "Weights:  [[0.5]]\n",
      "Intercept:  [3.]\n"
     ]
    },
    {
     "data": {
      "image/png": "[encoded data removed]",
      "text/plain": [
       "<Figure size 640x480 with 1 Axes>"
      ]
     },
     "metadata": {},
     "output_type": "display_data"
    }
   ],
   "source": [
    "import numpy as np\n",
    "import matplotlib.pyplot as plt\n",
    "from sklearn import linear_model\n",
    "from sklearn.metrics import mean_squared_error\n",
    "\n",
    "train_features_data = np.array([[1],[2],[3]])\n",
    "train_label_data = np.array([[4],[3],[5]])\n",
    "\n",
    "test_features_data = np.array([[1],[2],[3]])\n",
    "test_label_data = np.array([[4],[3],[5]])\n",
    "\n",
    "model1 = linear_model.LinearRegression()\n",
    "model1.fit(train_features_data, train_label_data)\n",
    "\n",
    "prediction = model1.predict(test_features_data)\n",
    "print(prediction)\n",
    "\n",
    "print(\"MSE: \",mean_squared_error(prediction, test_label_data))\n",
    "print('Weights: ',model1.coef_)\n",
    "print('Intercept: ',model1.intercept_)\n",
    "\n",
    "plt.scatter(test_features_data, test_label_data)\n",
    "plt.plot(test_features_data, prediction)\n",
    "plt.show()"
   ]
  },
  {
   "cell_type": "markdown",
   "id": "b0f5c93d",
   "metadata": {
    "papermill": {
     "duration": 0.005163,
     "end_time": "2023-07-10T18:27:49.333530",
     "exception": false,
     "start_time": "2023-07-10T18:27:49.328367",
     "status": "completed"
    },
    "tags": []
   },
   "source": [
    "# Using Dataset"
   ]
  },
  {
   "cell_type": "code",
   "execution_count": 3,
   "id": "7e79b3e1",
   "metadata": {
    "execution": {
     "iopub.execute_input": "2023-07-10T18:27:49.345933Z",
     "iopub.status.busy": "2023-07-10T18:27:49.345518Z",
     "iopub.status.idle": "2023-07-10T18:27:49.441821Z",
     "shell.execute_reply": "2023-07-10T18:27:49.440650Z"
    },
    "papermill": {
     "duration": 0.105616,
     "end_time": "2023-07-10T18:27:49.444413",
     "exception": false,
     "start_time": "2023-07-10T18:27:49.338797",
     "status": "completed"
    },
    "tags": []
   },
   "outputs": [
    {
     "name": "stdout",
     "output_type": "stream",
     "text": [
      "dict_keys(['data', 'target', 'frame', 'DESCR', 'feature_names', 'data_filename', 'target_filename', 'data_module'])\n"
     ]
    }
   ],
   "source": [
    "from sklearn import datasets\n",
    "\n",
    "dataset1 = datasets.load_diabetes()\n",
    "print(dataset1.keys())"
   ]
  },
  {
   "cell_type": "code",
   "execution_count": 4,
   "id": "1d84a4fc",
   "metadata": {
    "execution": {
     "iopub.execute_input": "2023-07-10T18:27:49.459190Z",
     "iopub.status.busy": "2023-07-10T18:27:49.458662Z",
     "iopub.status.idle": "2023-07-10T18:27:49.465313Z",
     "shell.execute_reply": "2023-07-10T18:27:49.464400Z"
    },
    "papermill": {
     "duration": 0.016766,
     "end_time": "2023-07-10T18:27:49.467927",
     "exception": false,
     "start_time": "2023-07-10T18:27:49.451161",
     "status": "completed"
    },
    "tags": []
   },
   "outputs": [
    {
     "name": "stdout",
     "output_type": "stream",
     "text": [
      "['age', 'sex', 'bmi', 'bp', 's1', 's2', 's3', 's4', 's5', 's6']\n",
      "[[ 0.03807591  0.05068012  0.06169621 ... -0.00259226  0.01990749\n",
      "  -0.01764613]\n",
      " [-0.00188202 -0.04464164 -0.05147406 ... -0.03949338 -0.06833155\n",
      "  -0.09220405]\n",
      " [ 0.08529891  0.05068012  0.04445121 ... -0.00259226  0.00286131\n",
      "  -0.02593034]\n",
      " ...\n",
      " [ 0.04170844  0.05068012 -0.01590626 ... -0.01107952 -0.04688253\n",
      "   0.01549073]\n",
      " [-0.04547248 -0.04464164  0.03906215 ...  0.02655962  0.04452873\n",
      "  -0.02593034]\n",
      " [-0.04547248 -0.04464164 -0.0730303  ... -0.03949338 -0.00422151\n",
      "   0.00306441]]\n"
     ]
    }
   ],
   "source": [
    "print(dataset1.feature_names)\n",
    "print(dataset1.data)"
   ]
  },
  {
   "cell_type": "code",
   "execution_count": 5,
   "id": "c0311b36",
   "metadata": {
    "execution": {
     "iopub.execute_input": "2023-07-10T18:27:49.481363Z",
     "iopub.status.busy": "2023-07-10T18:27:49.480621Z",
     "iopub.status.idle": "2023-07-10T18:27:49.487126Z",
     "shell.execute_reply": "2023-07-10T18:27:49.485361Z"
    },
    "papermill": {
     "duration": 0.016037,
     "end_time": "2023-07-10T18:27:49.489555",
     "exception": false,
     "start_time": "2023-07-10T18:27:49.473518",
     "status": "completed"
    },
    "tags": []
   },
   "outputs": [
    {
     "name": "stdout",
     "output_type": "stream",
     "text": [
      ".. _diabetes_dataset:\n",
      "\n",
      "Diabetes dataset\n",
      "----------------\n",
      "\n",
      "Ten baseline variables, age, sex, body mass index, average blood\n",
      "pressure, and six blood serum measurements were obtained for each of n =\n",
      "442 diabetes patients, as well as the response of interest, a\n",
      "quantitative measure of disease progression one year after baseline.\n",
      "\n",
      "**Data Set Characteristics:**\n",
      "\n",
      "  :Number of Instances: 442\n",
      "\n",
      "  :Number of Attributes: First 10 columns are numeric predictive values\n",
      "\n",
      "  :Target: Column 11 is a quantitative measure of disease progression one year after baseline\n",
      "\n",
      "  :Attribute Information:\n",
      "      - age     age in years\n",
      "      - sex\n",
      "      - bmi     body mass index\n",
      "      - bp      average blood pressure\n",
      "      - s1      tc, total serum cholesterol\n",
      "      - s2      ldl, low-density lipoproteins\n",
      "      - s3      hdl, high-density lipoproteins\n",
      "      - s4      tch, total cholesterol / HDL\n",
      "      - s5      ltg, possibly log of serum triglycerides level\n",
      "      - s6      glu, blood sugar level\n",
      "\n",
      "Note: Each of these 10 feature variables have been mean centered and scaled by the standard deviation times the square root of `n_samples` (i.e. the sum of squares of each column totals 1).\n",
      "\n",
      "Source URL:\n",
      "https://www4.stat.ncsu.edu/~boos/var.select/diabetes.html\n",
      "\n",
      "For more information see:\n",
      "Bradley Efron, Trevor Hastie, Iain Johnstone and Robert Tibshirani (2004) \"Least Angle Regression,\" Annals of Statistics (with discussion), 407-499.\n",
      "(https://web.stanford.edu/~hastie/Papers/LARS/LeastAngle_2002.pdf)\n",
      "\n"
     ]
    }
   ],
   "source": [
    "print(dataset1.DESCR)"
   ]
  },
  {
   "cell_type": "code",
   "execution_count": 6,
   "id": "ef2ad4d3",
   "metadata": {
    "execution": {
     "iopub.execute_input": "2023-07-10T18:27:49.502876Z",
     "iopub.status.busy": "2023-07-10T18:27:49.502475Z",
     "iopub.status.idle": "2023-07-10T18:27:49.509484Z",
     "shell.execute_reply": "2023-07-10T18:27:49.508010Z"
    },
    "papermill": {
     "duration": 0.017518,
     "end_time": "2023-07-10T18:27:49.512791",
     "exception": false,
     "start_time": "2023-07-10T18:27:49.495273",
     "status": "completed"
    },
    "tags": []
   },
   "outputs": [
    {
     "name": "stdout",
     "output_type": "stream",
     "text": [
      "[[ 0.03807591  0.05068012  0.06169621 ... -0.00259226  0.01990749\n",
      "  -0.01764613]\n",
      " [-0.00188202 -0.04464164 -0.05147406 ... -0.03949338 -0.06833155\n",
      "  -0.09220405]\n",
      " [ 0.08529891  0.05068012  0.04445121 ... -0.00259226  0.00286131\n",
      "  -0.02593034]\n",
      " ...\n",
      " [ 0.04170844  0.05068012 -0.01590626 ... -0.01107952 -0.04688253\n",
      "   0.01549073]\n",
      " [-0.04547248 -0.04464164  0.03906215 ...  0.02655962  0.04452873\n",
      "  -0.02593034]\n",
      " [-0.04547248 -0.04464164 -0.0730303  ... -0.03949338 -0.00422151\n",
      "   0.00306441]]\n"
     ]
    }
   ],
   "source": [
    "print(dataset1.data)"
   ]
  },
  {
   "cell_type": "code",
   "execution_count": 7,
   "id": "e0ac7c0b",
   "metadata": {
    "execution": {
     "iopub.execute_input": "2023-07-10T18:27:49.526227Z",
     "iopub.status.busy": "2023-07-10T18:27:49.525788Z",
     "iopub.status.idle": "2023-07-10T18:27:49.532262Z",
     "shell.execute_reply": "2023-07-10T18:27:49.531107Z"
    },
    "papermill": {
     "duration": 0.016083,
     "end_time": "2023-07-10T18:27:49.534638",
     "exception": false,
     "start_time": "2023-07-10T18:27:49.518555",
     "status": "completed"
    },
    "tags": []
   },
   "outputs": [],
   "source": [
    "# Splitting Test and Train Data\n",
    "data = dataset1.data[:,np.newaxis,3]\n",
    "\n",
    "train_features = data[:101]\n",
    "train_label = dataset1.target[:101]\n",
    "\n",
    "test_features = data[280:300]\n",
    "test_label = dataset1.target[280:300]"
   ]
  },
  {
   "cell_type": "code",
   "execution_count": 8,
   "id": "8c39cc2c",
   "metadata": {
    "execution": {
     "iopub.execute_input": "2023-07-10T18:27:49.548023Z",
     "iopub.status.busy": "2023-07-10T18:27:49.547616Z",
     "iopub.status.idle": "2023-07-10T18:27:49.562556Z",
     "shell.execute_reply": "2023-07-10T18:27:49.561307Z"
    },
    "papermill": {
     "duration": 0.024495,
     "end_time": "2023-07-10T18:27:49.564934",
     "exception": false,
     "start_time": "2023-07-10T18:27:49.540439",
     "status": "completed"
    },
    "tags": []
   },
   "outputs": [
    {
     "data": {
      "text/html": [
       "<style>#sk-container-id-1 {color: black;background-color: white;}#sk-container-id-1 pre{padding: 0;}#sk-container-id-1 div.sk-toggleable {background-color: white;}#sk-container-id-1 label.sk-toggleable__label {cursor: pointer;display: block;width: 100%;margin-bottom: 0;padding: 0.3em;box-sizing: border-box;text-align: center;}#sk-container-id-1 label.sk-toggleable__label-arrow:before {content: \"▸\";float: left;margin-right: 0.25em;color: #696969;}#sk-container-id-1 label.sk-toggleable__label-arrow:hover:before {color: black;}#sk-container-id-1 div.sk-estimator:hover label.sk-toggleable__label-arrow:before {color: black;}#sk-container-id-1 div.sk-toggleable__content {max-height: 0;max-width: 0;overflow: hidden;text-align: left;background-color: #f0f8ff;}#sk-container-id-1 div.sk-toggleable__content pre {margin: 0.2em;color: black;border-radius: 0.25em;background-color: #f0f8ff;}#sk-container-id-1 input.sk-toggleable__control:checked~div.sk-toggleable__content {max-height: 200px;max-width: 100%;overflow: auto;}#sk-container-id-1 input.sk-toggleable__control:checked~label.sk-toggleable__label-arrow:before {content: \"▾\";}#sk-container-id-1 div.sk-estimator input.sk-toggleable__control:checked~label.sk-toggleable__label {background-color: #d4ebff;}#sk-container-id-1 div.sk-label input.sk-toggleable__control:checked~label.sk-toggleable__label {background-color: #d4ebff;}#sk-container-id-1 input.sk-hidden--visually {border: 0;clip: rect(1px 1px 1px 1px);clip: rect(1px, 1px, 1px, 1px);height: 1px;margin: -1px;overflow: hidden;padding: 0;position: absolute;width: 1px;}#sk-container-id-1 div.sk-estimator {font-family: monospace;background-color: #f0f8ff;border: 1px dotted black;border-radius: 0.25em;box-sizing: border-box;margin-bottom: 0.5em;}#sk-container-id-1 div.sk-estimator:hover {background-color: #d4ebff;}#sk-container-id-1 div.sk-parallel-item::after {content: \"\";width: 100%;border-bottom: 1px solid gray;flex-grow: 1;}#sk-container-id-1 div.sk-label:hover label.sk-toggleable__label {background-color: #d4ebff;}#sk-container-id-1 div.sk-serial::before {content: \"\";position: absolute;border-left: 1px solid gray;box-sizing: border-box;top: 0;bottom: 0;left: 50%;z-index: 0;}#sk-container-id-1 div.sk-serial {display: flex;flex-direction: column;align-items: center;background-color: white;padding-right: 0.2em;padding-left: 0.2em;position: relative;}#sk-container-id-1 div.sk-item {position: relative;z-index: 1;}#sk-container-id-1 div.sk-parallel {display: flex;align-items: stretch;justify-content: center;background-color: white;position: relative;}#sk-container-id-1 div.sk-item::before, #sk-container-id-1 div.sk-parallel-item::before {content: \"\";position: absolute;border-left: 1px solid gray;box-sizing: border-box;top: 0;bottom: 0;left: 50%;z-index: -1;}#sk-container-id-1 div.sk-parallel-item {display: flex;flex-direction: column;z-index: 1;position: relative;background-color: white;}#sk-container-id-1 div.sk-parallel-item:first-child::after {align-self: flex-end;width: 50%;}#sk-container-id-1 div.sk-parallel-item:last-child::after {align-self: flex-start;width: 50%;}#sk-container-id-1 div.sk-parallel-item:only-child::after {width: 0;}#sk-container-id-1 div.sk-dashed-wrapped {border: 1px dashed gray;margin: 0 0.4em 0.5em 0.4em;box-sizing: border-box;padding-bottom: 0.4em;background-color: white;}#sk-container-id-1 div.sk-label label {font-family: monospace;font-weight: bold;display: inline-block;line-height: 1.2em;}#sk-container-id-1 div.sk-label-container {text-align: center;}#sk-container-id-1 div.sk-container {/* jupyter's `normalize.less` sets `[hidden] { display: none; }` but bootstrap.min.css set `[hidden] { display: none !important; }` so we also need the `!important` here to be able to override the default hidden behavior on the sphinx rendered scikit-learn.org. See: https://github.com/scikit-learn/scikit-learn/issues/21755 */display: inline-block !important;position: relative;}#sk-container-id-1 div.sk-text-repr-fallback {display: none;}</style><div id=\"sk-container-id-1\" class=\"sk-top-container\"><div class=\"sk-text-repr-fallback\"><pre>LinearRegression()</pre><b>In a Jupyter environment, please rerun this cell to show the HTML representation or trust the notebook. <br />On GitHub, the HTML representation is unable to render, please try loading this page with nbviewer.org.</b></div><div class=\"sk-container\" hidden><div class=\"sk-item\"><div class=\"sk-estimator sk-toggleable\"><input class=\"sk-toggleable__control sk-hidden--visually\" id=\"sk-estimator-id-1\" type=\"checkbox\" checked><label for=\"sk-estimator-id-1\" class=\"sk-toggleable__label sk-toggleable__label-arrow\">LinearRegression</label><div class=\"sk-toggleable__content\"><pre>LinearRegression()</pre></div></div></div></div></div>"
      ],
      "text/plain": [
       "LinearRegression()"
      ]
     },
     "execution_count": 8,
     "metadata": {},
     "output_type": "execute_result"
    }
   ],
   "source": [
    "# Linear Regression model training\n",
    "model2 = linear_model.LinearRegression()\n",
    "model2.fit(train_features, train_label)"
   ]
  },
  {
   "cell_type": "code",
   "execution_count": 9,
   "id": "c4cd4350",
   "metadata": {
    "execution": {
     "iopub.execute_input": "2023-07-10T18:27:49.578876Z",
     "iopub.status.busy": "2023-07-10T18:27:49.578479Z",
     "iopub.status.idle": "2023-07-10T18:27:49.584309Z",
     "shell.execute_reply": "2023-07-10T18:27:49.583091Z"
    },
    "papermill": {
     "duration": 0.015474,
     "end_time": "2023-07-10T18:27:49.586565",
     "exception": false,
     "start_time": "2023-07-10T18:27:49.571091",
     "status": "completed"
    },
    "tags": []
   },
   "outputs": [],
   "source": [
    "prediction = model2.predict(test_features)"
   ]
  },
  {
   "cell_type": "code",
   "execution_count": 10,
   "id": "7ac23a08",
   "metadata": {
    "execution": {
     "iopub.execute_input": "2023-07-10T18:27:49.600415Z",
     "iopub.status.busy": "2023-07-10T18:27:49.599982Z",
     "iopub.status.idle": "2023-07-10T18:27:49.877005Z",
     "shell.execute_reply": "2023-07-10T18:27:49.875731Z"
    },
    "papermill": {
     "duration": 0.287119,
     "end_time": "2023-07-10T18:27:49.879787",
     "exception": false,
     "start_time": "2023-07-10T18:27:49.592668",
     "status": "completed"
    },
    "tags": []
   },
   "outputs": [
    {
     "name": "stdout",
     "output_type": "stream",
     "text": [
      "MSE:  5709.439239409201\n",
      "Weights:  [438.23879326]\n",
      "Intercept:  138.50470053639071\n"
     ]
    },
    {
     "data": {
      "image/png": "[encoded data removed]",
      "text/plain": [
       "<Figure size 640x480 with 1 Axes>"
      ]
     },
     "metadata": {},
     "output_type": "display_data"
    }
   ],
   "source": [
    "print(\"MSE: \",mean_squared_error(prediction, test_label))\n",
    "print('Weights: ',model2.coef_)\n",
    "print('Intercept: ',model2.intercept_)\n",
    "\n",
    "plt.scatter(test_features, test_label)\n",
    "plt.plot(test_features, prediction)\n",
    "plt.show()"
   ]
  },
  {
   "cell_type": "code",
   "execution_count": null,
   "id": "0e49b705",
   "metadata": {
    "papermill": {
     "duration": 0.006412,
     "end_time": "2023-07-10T18:27:49.892927",
     "exception": false,
     "start_time": "2023-07-10T18:27:49.886515",
     "status": "completed"
    },
    "tags": []
   },
   "outputs": [],
   "source": []
  }
 ],
 "metadata": {
  "kernelspec": {
   "display_name": "Python 3",
   "language": "python",
   "name": "python3"
  },
  "language_info": {
   "codemirror_mode": {
    "name": "ipython",
    "version": 3
   },
   "file_extension": ".py",
   "mimetype": "text/x-python",
   "name": "python",
   "nbconvert_exporter": "python",
   "pygments_lexer": "ipython3",
   "version": "3.10.12"
  },
  "papermill": {
   "default_parameters": {},
   "duration": 16.041279,
   "end_time": "2023-07-10T18:27:50.925200",
   "environment_variables": {},
   "exception": null,
   "input_path": "__notebook__.ipynb",
   "output_path": "__notebook__.ipynb",
   "parameters": {},
   "start_time": "2023-07-10T18:27:34.883921",
   "version": "2.4.0"
  }
 },
 "nbformat": 4,
 "nbformat_minor": 5
}
